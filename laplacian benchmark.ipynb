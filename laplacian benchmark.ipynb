{
 "cells": [
  {
   "cell_type": "code",
   "execution_count": null,
   "metadata": {},
   "outputs": [],
   "source": [
    "import laplacian_original\n",
    "import laplacian_tensorflow\n",
    "import numpy as np\n",
    "import time\n",
    "\n",
    "import tensorflow as tf\n",
    "import tensorflow_probability as tfp"
   ]
  },
  {
   "cell_type": "code",
   "execution_count": null,
   "metadata": {},
   "outputs": [],
   "source": [
    "def benchmark_speed(dataset, lsh_kde, L, bandwidth):\n",
    "    N = dataset.shape[0]\n",
    "    dim = dataset.shape[1]\n",
    "    construction_start = time.process_time()\n",
    "    lsh = lsh_kde(dataset, bandwidth, L)\n",
    "    construction_end = time.process_time() - construction_start\n",
    "\n",
    "    n_sample = 10\n",
    "    test_sample = np.random.choice(N, n_sample, replace=False)\n",
    "    query_avg = 0.0\n",
    "    for row_num in test_sample:\n",
    "        row = dataset[row_num, :]\n",
    "        query_start = time.process_time()\n",
    "        lsh.kde(row)\n",
    "        query_end = time.process_time() - query_start\n",
    "        query_avg = query_avg + query_end / n_sample\n",
    "    return construction_end, query_avg\n",
    "\n",
    "def benchmark_speed_tf(N, dim, lsh_kde, L, bandwidth, dat_type=\"normal\"):\n",
    "    if dat_type == \"normal\":\n",
    "        dataset=tf.random.normal((N, dim))\n",
    "    else:\n",
    "        dataset=tf.random.uniform((N, dim))\n",
    "    construction_start = time.process_time()\n",
    "    lsh = lsh_kde(dataset, bandwidth, L)\n",
    "    construction_end = time.process_time() - construction_start\n",
    "\n",
    "    n_sample = 10\n",
    "    test_sample = np.random.choice(N, n_sample, replace=False)\n",
    "    query_avg = 0.0\n",
    "    for row_num in test_sample:\n",
    "        row = dataset[row_num, :]\n",
    "        query_start = time.process_time()\n",
    "        lsh.kde(row)\n",
    "        query_end = time.process_time() - query_start\n",
    "        query_avg = query_avg + query_end / n_sample\n",
    "    return construction_end, query_avg"
   ]
  },
  {
   "cell_type": "markdown",
   "metadata": {},
   "source": [
    "## Original Laplacian KDE benchmark (change variable for other experimentation)"
   ]
  },
  {
   "cell_type": "code",
   "execution_count": null,
   "metadata": {},
   "outputs": [],
   "source": [
    "# Original\n",
    "# L=50, D=100~10000, N=10000, band=0.5\n",
    "# L=50, D=100, N=10000~1000000, band=0.5\n",
    "# L=10~100, D=100, N=100000, band=0.5\n",
    "\n",
    "\n",
    "# New\n",
    "# N:100000 D:50, L 10~100\n",
    "# N: 10000~1000000 D:50, L:50\n",
    "# N:100000, D: 10~100, L:50\n",
    "preprocess_time = []\n",
    "query_time = []\n",
    "D_s = []\n",
    "\n",
    "for i in range(10, 101):\n",
    "    print(i)\n",
    "    N = 100000\n",
    "    D = 100\n",
    "    D_s.append(i)\n",
    "    dataset = np.random.normal(size=(N, D))\n",
    "    #dataset = np.random.uniform(size=(N, D))\n",
    "    L = i\n",
    "    bandwidth = 0.5\n",
    "    lsh_kde =  laplacian_original.FastLaplacianKDE\n",
    "    construction, query = benchmark_speed(dataset, lsh_kde, L, bandwidth)\n",
    "    preprocess_time.append(construction)\n",
    "    query_time.append(query)"
   ]
  },
  {
   "cell_type": "code",
   "execution_count": null,
   "metadata": {},
   "outputs": [],
   "source": [
    "import pandas as pd\n",
    "\n",
    "# write benchmark data into csv\n",
    "\n",
    "write_dat = {\n",
    "    \"D\": D_s,\n",
    "    \"pre\": preprocess_time,\n",
    "    \"query\": query_time,\n",
    "}\n",
    "\n",
    "pd_dat = pd.DataFrame(write_dat)\n",
    "\n",
    "pd_dat.to_csv(\"laplacian_tf_D_unif.csv\", index=False)"
   ]
  },
  {
   "cell_type": "markdown",
   "metadata": {},
   "source": [
    "## Our Laplacian KDE benchmark (change variable for other experimentation)\n",
    "\n",
    "Note, this can also use for benchmark between Gaussian and Laplacian preprocessing/query time"
   ]
  },
  {
   "cell_type": "code",
   "execution_count": null,
   "metadata": {},
   "outputs": [],
   "source": [
    "# New\n",
    "# N:100000 D:50, L 10~100 (finish)\n",
    "# N: 10000~1000000 D:50, L:50 (finish)\n",
    "# N:100000, D: 10~100, L:50 (finish)\n",
    "\n",
    "preprocess_time = []\n",
    "query_time = []\n",
    "D_s = []\n",
    "\n",
    "for i in range(10, 101):\n",
    "    print(i)\n",
    "    N = 100000    \n",
    "    D = i\n",
    "    D_s.append(i)\n",
    "    \n",
    "    L = 50\n",
    "    bandwidth = 0.5\n",
    "    lsh_kde = laplacian_tensorflow.FastLaplacianKDE_tf\n",
    "    #construction, query = benchmark_speed_tf(N, D, lsh_kde, L, bandwidth)\n",
    "    construction, query = benchmark_speed_tf(N, D, lsh_kde, L, bandwidth, \"uniform\")\n",
    "    preprocess_time.append(construction)\n",
    "    query_time.append(query)"
   ]
  },
  {
   "cell_type": "code",
   "execution_count": null,
   "metadata": {},
   "outputs": [],
   "source": [
    "import pandas as pd\n",
    "\n",
    "write_dat = {\n",
    "    # Change \"D\" for other experimentations (such as \"L\" for LSH copy)\n",
    "    \"D\": D_s,\n",
    "    \"pre\": preprocess_time,\n",
    "    \"query\": query_time,\n",
    "}\n",
    "\n",
    "pd_dat = pd.DataFrame(write_dat)\n",
    "\n",
    "pd_dat.to_csv(\"laplacian_tf_D_unif.csv\", index=False)"
   ]
  }
 ],
 "metadata": {
  "kernelspec": {
   "display_name": "Python 3",
   "language": "python",
   "name": "python3"
  },
  "language_info": {
   "codemirror_mode": {
    "name": "ipython",
    "version": 3
   },
   "file_extension": ".py",
   "mimetype": "text/x-python",
   "name": "python",
   "nbconvert_exporter": "python",
   "pygments_lexer": "ipython3",
   "version": "3.8.5"
  }
 },
 "nbformat": 4,
 "nbformat_minor": 4
}
